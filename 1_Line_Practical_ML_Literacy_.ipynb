{
  "nbformat": 4,
  "nbformat_minor": 0,
  "metadata": {
    "colab": {
      "name": "1. Line Practical ML Literacy .ipynb",
      "provenance": [],
      "include_colab_link": true
    },
    "kernelspec": {
      "name": "python3",
      "display_name": "Python 3"
    }
  },
  "cells": [
    {
      "cell_type": "markdown",
      "metadata": {
        "id": "view-in-github",
        "colab_type": "text"
      },
      "source": [
        "<a href=\"https://colab.research.google.com/github/ZackAkil/practical-machine-learning-literacy/blob/master/1_Line_Practical_ML_Literacy_.ipynb\" target=\"_parent\"><img src=\"https://colab.research.google.com/assets/colab-badge.svg\" alt=\"Open In Colab\"/></a>"
      ]
    },
    {
      "cell_type": "markdown",
      "metadata": {
        "id": "6S3wAb12dZNe",
        "colab_type": "text"
      },
      "source": [
        "# Line (predicting bugs)\n",
        "In this notebook you will build a linear regression model to predict how many bugs you have in your code based on how much code you have written.\n",
        "\n",
        "The main tool we will be using is [SciKit-Learn](https://scikit-learn.org) which is one of the most popular industry standard ML packages for python!\n",
        "\n",
        "![alt text](https://scikit-learn.org/stable/_static/scikit-learn-logo-small.png)"
      ]
    },
    {
      "cell_type": "code",
      "metadata": {
        "id": "u_SU1J1xdkf8",
        "colab_type": "code",
        "colab": {}
      },
      "source": [
        "# import a matrix package that we will use for generating data\n",
        "import numpy as np"
      ],
      "execution_count": 0,
      "outputs": []
    },
    {
      "cell_type": "code",
      "metadata": {
        "id": "Zn73nL32dsfe",
        "colab_type": "code",
        "colab": {}
      },
      "source": [
        "# import a data visualisation package\n",
        "import matplotlib.pyplot as plt"
      ],
      "execution_count": 0,
      "outputs": []
    },
    {
      "cell_type": "markdown",
      "metadata": {
        "id": "p8XEFR0md4Ei",
        "colab_type": "text"
      },
      "source": [
        "Generate some training data."
      ]
    },
    {
      "cell_type": "code",
      "metadata": {
        "id": "SCSNU-_LdwYC",
        "colab_type": "code",
        "colab": {}
      },
      "source": [
        "n = 50\n",
        "\n",
        "np.random.seed(42)\n",
        "X = np.arange(n) + 3\n",
        "y = (X + (np.random.normal(size=n) * 8)).astype(np.int)\n",
        "\n",
        "plt.scatter(X, y)\n",
        "plt.xlabel('Lines of code written')\n",
        "plt.ylabel('Number of bugs')\n",
        "plt.show()"
      ],
      "execution_count": 0,
      "outputs": []
    },
    {
      "cell_type": "code",
      "metadata": {
        "id": "7N4VQiqId9sa",
        "colab_type": "code",
        "colab": {}
      },
      "source": [
        "#  have our input data (number of lines of code written) \n",
        "X"
      ],
      "execution_count": 0,
      "outputs": []
    },
    {
      "cell_type": "code",
      "metadata": {
        "id": "0hKSfpM7eKdj",
        "colab_type": "code",
        "colab": {}
      },
      "source": [
        "# with our output data (number of bugs)\n",
        "y"
      ],
      "execution_count": 0,
      "outputs": []
    },
    {
      "cell_type": "markdown",
      "metadata": {
        "id": "iz7k5g27ekrR",
        "colab_type": "text"
      },
      "source": [
        "##Before you continue. Is this a Regression or Classification problem?"
      ]
    },
    {
      "cell_type": "code",
      "metadata": {
        "id": "xUtExT1FecPg",
        "colab_type": "code",
        "colab": {}
      },
      "source": [
        "# import the linear regression package from sklearn\n",
        "from sklearn.linear_model import LinearRegression"
      ],
      "execution_count": 0,
      "outputs": []
    },
    {
      "cell_type": "code",
      "metadata": {
        "id": "QgRqby4me2ws",
        "colab_type": "code",
        "colab": {}
      },
      "source": [
        "# create the model\n",
        "model = LinearRegression()\n",
        "\n",
        "# train the model\n",
        "model.fit(X.reshape([-1, 1]), y)"
      ],
      "execution_count": 0,
      "outputs": []
    },
    {
      "cell_type": "code",
      "metadata": {
        "id": "NYvNNJ0jfBgg",
        "colab_type": "code",
        "colab": {}
      },
      "source": [
        "# get predictions\n",
        "HOW_MANY_LINES_OF_CODE_YOU_WROTE = None\n",
        "\n",
        "model.predict([[HOW_MANY_LINES_OF_CODE_YOU_WROTE]])"
      ],
      "execution_count": 0,
      "outputs": []
    },
    {
      "cell_type": "markdown",
      "metadata": {
        "id": "UCdCjpyffTqk",
        "colab_type": "text"
      },
      "source": [
        "## what does your model look like"
      ]
    },
    {
      "cell_type": "code",
      "metadata": {
        "id": "HqlW-xyCfWLg",
        "colab_type": "code",
        "colab": {}
      },
      "source": [
        "# get a line of predictions from our model\n",
        "new_X = np.arange(max(X)).reshape(-1, 1)\n",
        "pred = model.predict(new_X)\n",
        "\n",
        "# show our data\n",
        "plt.scatter(X, y)\n",
        "\n",
        "# show our trained model\n",
        "plt.plot(new_X, pred, c='r', label='your model')\n",
        "\n",
        "plt.legend()\n",
        "plt.show()"
      ],
      "execution_count": 0,
      "outputs": []
    }
  ]
}