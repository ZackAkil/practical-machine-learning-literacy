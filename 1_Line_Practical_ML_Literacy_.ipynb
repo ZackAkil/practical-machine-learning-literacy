{
  "nbformat": 4,
  "nbformat_minor": 0,
  "metadata": {
    "colab": {
      "name": "1. Line Practical ML Literacy .ipynb",
      "version": "0.3.2",
      "provenance": [],
      "include_colab_link": true
    },
    "kernelspec": {
      "name": "python3",
      "display_name": "Python 3"
    }
  },
  "cells": [
    {
      "cell_type": "markdown",
      "metadata": {
        "id": "view-in-github",
        "colab_type": "text"
      },
      "source": [
        "<a href=\"https://colab.research.google.com/github/ZackAkil/practical-machine-learning-literacy/blob/master/1_Line_Practical_ML_Literacy_.ipynb\" target=\"_parent\"><img src=\"https://colab.research.google.com/assets/colab-badge.svg\" alt=\"Open In Colab\"/></a>"
      ]
    },
    {
      "cell_type": "markdown",
      "metadata": {
        "id": "6S3wAb12dZNe",
        "colab_type": "text"
      },
      "source": [
        "# Line\n",
        "In this notebook you will build a linear regression model to predict how many bugs you have in your code based on how much code you have written.\n",
        "\n",
        "The main tool we will be using is [SciKit-Learn](https://scikit-learn.org) which is one of the most popular industry standard ML packages for python!\n",
        "\n",
        "![alt text](https://scikit-learn.org/stable/_static/scikit-learn-logo-small.png)"
      ]
    },
    {
      "cell_type": "code",
      "metadata": {
        "id": "u_SU1J1xdkf8",
        "colab_type": "code",
        "colab": {}
      },
      "source": [
        "# import a matrix package that we will use for generating data\n",
        "import numpy as np"
      ],
      "execution_count": 0,
      "outputs": []
    },
    {
      "cell_type": "code",
      "metadata": {
        "id": "Zn73nL32dsfe",
        "colab_type": "code",
        "colab": {}
      },
      "source": [
        "# import a data visualisation package\n",
        "import matplotlib.pyplot as plt"
      ],
      "execution_count": 0,
      "outputs": []
    },
    {
      "cell_type": "markdown",
      "metadata": {
        "id": "p8XEFR0md4Ei",
        "colab_type": "text"
      },
      "source": [
        "Bit of crazy code, but it will let you generate your own noisy data, trust me."
      ]
    },
    {
      "cell_type": "code",
      "metadata": {
        "id": "SCSNU-_LdwYC",
        "colab_type": "code",
        "colab": {
          "base_uri": "https://localhost:8080/",
          "height": 283
        },
        "outputId": "6bee8b54-1757-4001-c580-618491110292"
      },
      "source": [
        "#@title Data generator fantastico! { run: \"auto\" }\n",
        "sensor_quality = 0.7 #@param {type:\"slider\", min:0, max:1, step:0.1}\n",
        "time_spent_collecting_data = 29 #@param {type:\"slider\", min:5, max:100, step:1}\n",
        "\n",
        "n = time_spent_collecting_data\n",
        "\n",
        "X = (np.arange(n)/time_spent_collecting_data)*10\n",
        "np.random.seed(42)\n",
        "noise = (np.random.normal(size=n)) * (1-sensor_quality) *5\n",
        "y = X + noise\n",
        "\n",
        "plt.scatter(X, y)\n",
        "plt.xlabel('Lines of code written')\n",
        "plt.ylabel('Number of bugs')\n",
        "plt.show()"
      ],
      "execution_count": 6,
      "outputs": [
        {
          "output_type": "display_data",
          "data": {
            "image/png": "[encoded data removed]",
            "text/plain": [
              "<Figure size 432x288 with 1 Axes>"
            ]
          },
          "metadata": {
            "tags": []
          }
        }
      ]
    },
    {
      "cell_type": "code",
      "metadata": {
        "id": "7N4VQiqId9sa",
        "colab_type": "code",
        "colab": {
          "base_uri": "https://localhost:8080/",
          "height": 118
        },
        "outputId": "02310aa2-69d1-40f5-fb0d-8552dd7790b3"
      },
      "source": [
        "#  have our input data (number of lines of code written) \n",
        "X"
      ],
      "execution_count": 5,
      "outputs": [
        {
          "output_type": "execute_result",
          "data": {
            "text/plain": [
              "array([0.        , 0.34482759, 0.68965517, 1.03448276, 1.37931034,\n",
              "       1.72413793, 2.06896552, 2.4137931 , 2.75862069, 3.10344828,\n",
              "       3.44827586, 3.79310345, 4.13793103, 4.48275862, 4.82758621,\n",
              "       5.17241379, 5.51724138, 5.86206897, 6.20689655, 6.55172414,\n",
              "       6.89655172, 7.24137931, 7.5862069 , 7.93103448, 8.27586207,\n",
              "       8.62068966, 8.96551724, 9.31034483, 9.65517241])"
            ]
          },
          "metadata": {
            "tags": []
          },
          "execution_count": 5
        }
      ]
    },
    {
      "cell_type": "code",
      "metadata": {
        "id": "0hKSfpM7eKdj",
        "colab_type": "code",
        "colab": {
          "base_uri": "https://localhost:8080/",
          "height": 118
        },
        "outputId": "584c05f7-4a2f-46b7-aa50-4f991f92a18e"
      },
      "source": [
        "# with our output data (number of bugs)\n",
        "y"
      ],
      "execution_count": 7,
      "outputs": [
        {
          "output_type": "execute_result",
          "data": {
            "text/plain": [
              "array([0.74507123, 0.13743113, 1.66118798, 3.31902754, 1.02808028,\n",
              "       1.3729325 , 4.43778474, 3.5649452 , 2.05440911, 3.91728834,\n",
              "       2.75314932, 3.09450882, 4.50087444, 1.61283825, 2.24020946,\n",
              "       4.3289825 , 3.9979947 , 6.33343996, 4.84486044, 4.43326859,\n",
              "       9.09502488, 6.90271486, 7.6874992 , 5.7939122 , 7.45928798,\n",
              "       8.78707354, 7.23902688, 9.87389186, 8.75421438])"
            ]
          },
          "metadata": {
            "tags": []
          },
          "execution_count": 7
        }
      ]
    },
    {
      "cell_type": "markdown",
      "metadata": {
        "id": "iz7k5g27ekrR",
        "colab_type": "text"
      },
      "source": [
        "##Before you continue. Is this a Regression or Classification problem?"
      ]
    },
    {
      "cell_type": "code",
      "metadata": {
        "id": "xUtExT1FecPg",
        "colab_type": "code",
        "colab": {}
      },
      "source": [
        "# import the linear regression package from sklearn\n",
        "from sklearn.linear_model import LinearRegression"
      ],
      "execution_count": 0,
      "outputs": []
    },
    {
      "cell_type": "code",
      "metadata": {
        "id": "QgRqby4me2ws",
        "colab_type": "code",
        "colab": {
          "base_uri": "https://localhost:8080/",
          "height": 54
        },
        "outputId": "6d94c01e-fcbb-411f-83f0-b2887a3fb7e9"
      },
      "source": [
        "# create the model\n",
        "model = LinearRegression()\n",
        "\n",
        "# train the model\n",
        "model.fit(input_data, output_data)"
      ],
      "execution_count": 12,
      "outputs": [
        {
          "output_type": "execute_result",
          "data": {
            "text/plain": [
              "LinearRegression(copy_X=True, fit_intercept=True, n_jobs=None, normalize=False)"
            ]
          },
          "metadata": {
            "tags": []
          },
          "execution_count": 12
        }
      ]
    },
    {
      "cell_type": "code",
      "metadata": {
        "id": "NYvNNJ0jfBgg",
        "colab_type": "code",
        "colab": {
          "base_uri": "https://localhost:8080/",
          "height": 34
        },
        "outputId": "5ab21803-4c13-4bf7-8a3c-b025b228d123"
      },
      "source": [
        "# get predictions\n",
        "model.predict([[number of lines of code]])"
      ],
      "execution_count": 13,
      "outputs": [
        {
          "output_type": "execute_result",
          "data": {
            "text/plain": [
              "array([8.03090336])"
            ]
          },
          "metadata": {
            "tags": []
          },
          "execution_count": 13
        }
      ]
    },
    {
      "cell_type": "markdown",
      "metadata": {
        "id": "UCdCjpyffTqk",
        "colab_type": "text"
      },
      "source": [
        "## what does your model look like"
      ]
    },
    {
      "cell_type": "code",
      "metadata": {
        "id": "HqlW-xyCfWLg",
        "colab_type": "code",
        "colab": {
          "base_uri": "https://localhost:8080/",
          "height": 269
        },
        "outputId": "92944162-c6ad-4fb4-e74d-3b92d4a35f29"
      },
      "source": [
        "# get a line of predictions from our model\n",
        "new_X = np.arange(11).reshape(-1, 1)\n",
        "pred = model.predict(new_X)\n",
        "\n",
        "# show our data\n",
        "plt.scatter(X, y)\n",
        "\n",
        "# show our trained model\n",
        "plt.plot(new_X, pred, c='r', label='your model')\n",
        "\n",
        "# draw the perfect model in green, from (0,0), to (10,10)\n",
        "plt.plot([0,10], [0,10], c='g', label= 'true pattern')\n",
        "\n",
        "plt.legend()\n",
        "plt.show()"
      ],
      "execution_count": 15,
      "outputs": [
        {
          "output_type": "display_data",
          "data": {
            "image/png": "[encoded data removed]",
            "text/plain": [
              "<Figure size 432x288 with 1 Axes>"
            ]
          },
          "metadata": {
            "tags": []
          }
        }
      ]
    }
  ]
}