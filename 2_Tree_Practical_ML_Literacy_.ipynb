{
  "nbformat": 4,
  "nbformat_minor": 0,
  "metadata": {
    "colab": {
      "name": "Copy of 2. Tree Practical ML Literacy .ipynb",
      "provenance": [],
      "collapsed_sections": [],
      "include_colab_link": true
    },
    "kernelspec": {
      "name": "python3",
      "display_name": "Python 3"
    }
  },
  "cells": [
    {
      "cell_type": "markdown",
      "metadata": {
        "id": "view-in-github",
        "colab_type": "text"
      },
      "source": [
        "<a href=\"https://colab.research.google.com/github/ZackAkil/practical-machine-learning-literacy/blob/master/2_Tree_Practical_ML_Literacy_.ipynb\" target=\"_parent\"><img src=\"https://colab.research.google.com/assets/colab-badge.svg\" alt=\"Open In Colab\"/></a>"
      ]
    },
    {
      "cell_type": "markdown",
      "metadata": {
        "id": "6S3wAb12dZNe",
        "colab_type": "text"
      },
      "source": [
        "# Decision Tree Classifier\n",
        "In this notebook, you will build a Desicion Tree that will learn to classfy flowers.\n",
        "\n",
        "We'll use the package [scikit-learn](https://scikit-learn.org), one of the most popular Machine Learning libraries for Python!\n",
        "\n",
        "![alt text](https://scikit-learn.org/stable/_static/scikit-learn-logo-small.png)"
      ]
    },
    {
      "cell_type": "markdown",
      "metadata": {
        "id": "AyJxSJVNEKi3",
        "colab_type": "text"
      },
      "source": [
        "In this example, we'll use the [Iris flower dataset](https://en.wikipedia.org/wiki/Iris_flower_data_set).\n",
        "\n",
        "We'll try to predict whether a flower is one of three species of Iris using attributes like its petal length, petal width, sepal length, and sepal width."
      ]
    },
    {
      "cell_type": "code",
      "metadata": {
        "id": "u_SU1J1xdkf8",
        "colab_type": "code",
        "colab": {}
      },
      "source": [
        "# import a function that will fetch the data\n",
        "from sklearn.datasets import load_iris"
      ],
      "execution_count": 0,
      "outputs": []
    },
    {
      "cell_type": "code",
      "metadata": {
        "id": "YlTf4_zjgL0m",
        "colab_type": "code",
        "outputId": "b4aa7555-ffb8-46a0-a965-8f1b91290dda",
        "colab": {
          "base_uri": "https://localhost:8080/",
          "height": 238
        }
      },
      "source": [
        "#  get the data\n",
        "iris = load_iris()\n",
        "X = iris.data\n",
        "y = iris.target\n",
        "\n",
        "print(\"Iris data shape: \", X.shape)\n",
        "print(\"That's {0} rows and {1} columns\".format(X.shape[0], X.shape[1]))\n",
        "print('Displaying first 10 rows of iris data')\n",
        "X[:10]"
      ],
      "execution_count": 0,
      "outputs": [
        {
          "output_type": "stream",
          "text": [
            "Iris data shape:  (150, 4)\n",
            "That's 150 rows and 4 columns\n",
            "Displaying first 10 rows of iris data\n"
          ],
          "name": "stdout"
        },
        {
          "output_type": "execute_result",
          "data": {
            "text/plain": [
              "array([[5.1, 3.5, 1.4, 0.2],\n",
              "       [4.9, 3. , 1.4, 0.2],\n",
              "       [4.7, 3.2, 1.3, 0.2],\n",
              "       [4.6, 3.1, 1.5, 0.2],\n",
              "       [5. , 3.6, 1.4, 0.2],\n",
              "       [5.4, 3.9, 1.7, 0.4],\n",
              "       [4.6, 3.4, 1.4, 0.3],\n",
              "       [5. , 3.4, 1.5, 0.2],\n",
              "       [4.4, 2.9, 1.4, 0.2],\n",
              "       [4.9, 3.1, 1.5, 0.1]])"
            ]
          },
          "metadata": {
            "tags": []
          },
          "execution_count": 2
        }
      ]
    },
    {
      "cell_type": "markdown",
      "metadata": {
        "id": "mi8rreLmgZWj",
        "colab_type": "text"
      },
      "source": [
        "## Let's plot the data"
      ]
    },
    {
      "cell_type": "code",
      "metadata": {
        "id": "Zn73nL32dsfe",
        "colab_type": "code",
        "colab": {}
      },
      "source": [
        "# import a data visualisation package\n",
        "import matplotlib.pyplot as plt"
      ],
      "execution_count": 0,
      "outputs": []
    },
    {
      "cell_type": "markdown",
      "metadata": {
        "id": "xInFg5BeE6qo",
        "colab_type": "text"
      },
      "source": [
        "Our data has five different features (petal length, petal width, septal length, etc), but we'll just try visualizing the data using the first two features, petal length and petal width, so we can plot it on a graph: "
      ]
    },
    {
      "cell_type": "code",
      "metadata": {
        "id": "_ber0_e8giKW",
        "colab_type": "code",
        "outputId": "baea9ba6-c79c-4247-848a-d97439296fe9",
        "colab": {
          "base_uri": "https://localhost:8080/",
          "height": 283
        }
      },
      "source": [
        "# there are 4 input feature columns, but we'll just show 2\n",
        "plt.scatter(iris.data[:,0], iris.data[:,1], c=iris.target)\n",
        "plt.xlabel(iris.feature_names[x_axis_feature])\n",
        "plt.ylabel(iris.feature_names[y_axis_feature])\n",
        "plt.show()"
      ],
      "execution_count": 0,
      "outputs": [
        {
          "output_type": "display_data",
          "data": {
            "image/png": "[encoded data removed]",
            "text/plain": [
              "<Figure size 432x288 with 1 Axes>"
            ]
          },
          "metadata": {
            "tags": []
          }
        }
      ]
    },
    {
      "cell_type": "markdown",
      "metadata": {
        "id": "hGZPw74qg0XL",
        "colab_type": "text"
      },
      "source": [
        "## Let's train a Decision Tree Classifier"
      ]
    },
    {
      "cell_type": "code",
      "metadata": {
        "id": "4GFxn6WPgymp",
        "colab_type": "code",
        "colab": {}
      },
      "source": [
        "# import desicion tree package\n",
        "from sklearn import tree"
      ],
      "execution_count": 0,
      "outputs": []
    },
    {
      "cell_type": "code",
      "metadata": {
        "id": "OGa0MZ33g5SR",
        "colab_type": "code",
        "outputId": "a1e152ca-0af4-4c28-8763-d7269c8323ea",
        "colab": {
          "base_uri": "https://localhost:8080/",
          "height": 198
        }
      },
      "source": [
        "# create the model\n",
        "model = tree.DecisionTreeClassifier()\n",
        "\n",
        "# train the model\n",
        "\n",
        "# NOTE: You'll need to set input_data and output_data (labels) below\n",
        "model.fit(input_data, output_data)"
      ],
      "execution_count": 0,
      "outputs": [
        {
          "output_type": "error",
          "ename": "NameError",
          "evalue": "ignored",
          "traceback": [
            "\u001b[0;31m---------------------------------------------------------------------------\u001b[0m",
            "\u001b[0;31mNameError\u001b[0m                                 Traceback (most recent call last)",
            "\u001b[0;32m<ipython-input-11-eb98d827e6a7>\u001b[0m in \u001b[0;36m<module>\u001b[0;34m()\u001b[0m\n\u001b[1;32m      4\u001b[0m \u001b[0;34m\u001b[0m\u001b[0m\n\u001b[1;32m      5\u001b[0m \u001b[0;31m# NOTE: You'll need to set input_data and output_data (labels) below\u001b[0m\u001b[0;34m\u001b[0m\u001b[0;34m\u001b[0m\u001b[0;34m\u001b[0m\u001b[0m\n\u001b[0;32m----> 6\u001b[0;31m \u001b[0mmodel\u001b[0m\u001b[0;34m.\u001b[0m\u001b[0mfit\u001b[0m\u001b[0;34m(\u001b[0m\u001b[0minput_data\u001b[0m\u001b[0;34m,\u001b[0m \u001b[0moutput_data\u001b[0m\u001b[0;34m)\u001b[0m\u001b[0;34m\u001b[0m\u001b[0;34m\u001b[0m\u001b[0m\n\u001b[0m",
            "\u001b[0;31mNameError\u001b[0m: name 'input_data' is not defined"
          ]
        }
      ]
    },
    {
      "cell_type": "code",
      "metadata": {
        "id": "IHw46mTRg_uo",
        "colab_type": "code",
        "colab": {}
      },
      "source": [
        "# Let's make predictions on a new, unseen flower:\n",
        "model.predict([[1.3, 4.5, 1.2, 8.3]])"
      ],
      "execution_count": 0,
      "outputs": []
    },
    {
      "cell_type": "code",
      "metadata": {
        "id": "48f9v_iBhHYh",
        "colab_type": "code",
        "colab": {}
      },
      "source": [
        "# Let's see how we did on our data\n",
        "model.score(input_data, output_data)\n",
        "\n",
        "# TODO: Evaluate on a hold-out dataset"
      ],
      "execution_count": 0,
      "outputs": []
    },
    {
      "cell_type": "markdown",
      "metadata": {
        "id": "pxiTc6cGhNv-",
        "colab_type": "text"
      },
      "source": [
        "## lets look at our tree"
      ]
    },
    {
      "cell_type": "code",
      "metadata": {
        "id": "Alh7Hl0QhRRV",
        "colab_type": "code",
        "colab": {}
      },
      "source": [
        "plt.figure(figsize=(15, 10))\n",
        "tree.plot_tree(model, feature_names=iris.feature_names , class_names=iris.target_names)\n",
        "plt.show()"
      ],
      "execution_count": 0,
      "outputs": []
    },
    {
      "cell_type": "code",
      "metadata": {
        "id": "odb5B7ozhTqr",
        "colab_type": "code",
        "colab": {}
      },
      "source": [
        ""
      ],
      "execution_count": 0,
      "outputs": []
    }
  ]
}