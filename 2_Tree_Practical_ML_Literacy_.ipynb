{
  "nbformat": 4,
  "nbformat_minor": 0,
  "metadata": {
    "colab": {
      "name": "2. Tree Practical ML Literacy .ipynb",
      "version": "0.3.2",
      "provenance": [],
      "include_colab_link": true
    },
    "kernelspec": {
      "name": "python3",
      "display_name": "Python 3"
    }
  },
  "cells": [
    {
      "cell_type": "markdown",
      "metadata": {
        "id": "view-in-github",
        "colab_type": "text"
      },
      "source": [
        "<a href=\"https://colab.research.google.com/github/ZackAkil/practical-machine-learning-literacy/blob/master/2_Tree_Practical_ML_Literacy_.ipynb\" target=\"_parent\"><img src=\"https://colab.research.google.com/assets/colab-badge.svg\" alt=\"Open In Colab\"/></a>"
      ]
    },
    {
      "cell_type": "markdown",
      "metadata": {
        "id": "6S3wAb12dZNe",
        "colab_type": "text"
      },
      "source": [
        "# Tree\n",
        "In this notebook you will build a desicion tree that will learn to classfy flowers.\n",
        "\n",
        "The main tool we will be using is [SciKit-Learn](https://scikit-learn.org) which is one of the most popular industry standard ML packages for python!\n",
        "\n",
        "![alt text](https://scikit-learn.org/stable/_static/scikit-learn-logo-small.png)"
      ]
    },
    {
      "cell_type": "code",
      "metadata": {
        "id": "u_SU1J1xdkf8",
        "colab_type": "code",
        "colab": {}
      },
      "source": [
        "# import a function that will fetch the data\n",
        "from sklearn.datasets import load_iris"
      ],
      "execution_count": 0,
      "outputs": []
    },
    {
      "cell_type": "code",
      "metadata": {
        "id": "YlTf4_zjgL0m",
        "colab_type": "code",
        "colab": {}
      },
      "source": [
        "#  get the data\n",
        "iris = load_iris()\n",
        "X = iris.data\n",
        "y = iris.target\n",
        "\n",
        "print(\"Iris data shape: \", X.shape)\n",
        "print(\"That's {0} rows and {1} columns\".format(X.shape[0], X.shape[1]))\n",
        "print('Displaying first 10 rows of iris data')\n",
        "X[:10]"
      ],
      "execution_count": 0,
      "outputs": []
    },
    {
      "cell_type": "markdown",
      "metadata": {
        "id": "mi8rreLmgZWj",
        "colab_type": "text"
      },
      "source": [
        "## Lets plot the input feature data, with the output labels shown as colours:"
      ]
    },
    {
      "cell_type": "code",
      "metadata": {
        "id": "Zn73nL32dsfe",
        "colab_type": "code",
        "colab": {}
      },
      "source": [
        "# import a data visualisation package\n",
        "import matplotlib.pyplot as plt"
      ],
      "execution_count": 0,
      "outputs": []
    },
    {
      "cell_type": "code",
      "metadata": {
        "id": "_ber0_e8giKW",
        "colab_type": "code",
        "colab": {}
      },
      "source": [
        "# there are 4 input feature columns\n",
        "x_axis_feature = 2\n",
        "y_axis_feature = 0\n",
        "\n",
        "plt.scatter(iris.data[:,x_axis_feature], iris.data[:,y_axis_feature], c=iris.target)\n",
        "plt.xlabel(iris.feature_names[x_axis_feature])\n",
        "plt.ylabel(iris.feature_names[y_axis_feature])\n",
        "plt.show()"
      ],
      "execution_count": 0,
      "outputs": []
    },
    {
      "cell_type": "markdown",
      "metadata": {
        "id": "hGZPw74qg0XL",
        "colab_type": "text"
      },
      "source": [
        "## Is this regression or classification?"
      ]
    },
    {
      "cell_type": "code",
      "metadata": {
        "id": "4GFxn6WPgymp",
        "colab_type": "code",
        "colab": {}
      },
      "source": [
        "# import desicion tree package\n",
        "from sklearn import tree"
      ],
      "execution_count": 0,
      "outputs": []
    },
    {
      "cell_type": "code",
      "metadata": {
        "id": "OGa0MZ33g5SR",
        "colab_type": "code",
        "colab": {}
      },
      "source": [
        "# create the model\n",
        "model = tree.DecisionTreeClassifier()\n",
        "\n",
        "# train the model\n",
        "model.fit(input_data, output_data)"
      ],
      "execution_count": 0,
      "outputs": []
    },
    {
      "cell_type": "code",
      "metadata": {
        "id": "IHw46mTRg_uo",
        "colab_type": "code",
        "colab": {}
      },
      "source": [
        "# get prediction\n",
        "model.predict([[1.3, 4.5, 1.2, 8.3]])"
      ],
      "execution_count": 0,
      "outputs": []
    },
    {
      "cell_type": "code",
      "metadata": {
        "id": "48f9v_iBhHYh",
        "colab_type": "code",
        "colab": {}
      },
      "source": [
        "# get performance\n",
        "model.score(input_data, output_data)"
      ],
      "execution_count": 0,
      "outputs": []
    },
    {
      "cell_type": "markdown",
      "metadata": {
        "id": "pxiTc6cGhNv-",
        "colab_type": "text"
      },
      "source": [
        "## lets look at our tree"
      ]
    },
    {
      "cell_type": "code",
      "metadata": {
        "id": "Alh7Hl0QhRRV",
        "colab_type": "code",
        "colab": {}
      },
      "source": [
        "plt.figure(figsize=(15, 10))\n",
        "tree.plot_tree(model, feature_names=iris.feature_names , class_names=iris.target_names)\n",
        "plt.show()"
      ],
      "execution_count": 0,
      "outputs": []
    },
    {
      "cell_type": "code",
      "metadata": {
        "id": "odb5B7ozhTqr",
        "colab_type": "code",
        "colab": {}
      },
      "source": [
        ""
      ],
      "execution_count": 0,
      "outputs": []
    }
  ]
}