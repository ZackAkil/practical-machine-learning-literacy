{
  "nbformat": 4,
  "nbformat_minor": 0,
  "metadata": {
    "colab": {
      "name": "3. Text Tree Practical ML Literacy .ipynb",
      "version": "0.3.2",
      "provenance": [],
      "collapsed_sections": [],
      "include_colab_link": true
    },
    "kernelspec": {
      "name": "python3",
      "display_name": "Python 3"
    }
  },
  "cells": [
    {
      "cell_type": "markdown",
      "metadata": {
        "id": "view-in-github",
        "colab_type": "text"
      },
      "source": [
        "<a href=\"https://colab.research.google.com/github/ZackAkil/practical-machine-learning-literacy/blob/master/3_Text_Tree_Practical_ML_Literacy_.ipynb\" target=\"_parent\"><img src=\"https://colab.research.google.com/assets/colab-badge.svg\" alt=\"Open In Colab\"/></a>"
      ]
    },
    {
      "cell_type": "markdown",
      "metadata": {
        "id": "6S3wAb12dZNe",
        "colab_type": "text"
      },
      "source": [
        "# Text Tree\n",
        "In this notebook you will build a desicion tree that will learn to emails.\n",
        "\n",
        "The main tool we will be using is [SciKit-Learn](https://scikit-learn.org) which is one of the most popular industry standard ML packages for python!\n",
        "\n",
        "![alt text](https://scikit-learn.org/stable/_static/scikit-learn-logo-small.png)"
      ]
    },
    {
      "cell_type": "code",
      "metadata": {
        "id": "u_SU1J1xdkf8",
        "colab_type": "code",
        "colab": {}
      },
      "source": [
        "# import a function that will fetch the data\n",
        "from sklearn.datasets import fetch_20newsgroups\n"
      ],
      "execution_count": 0,
      "outputs": []
    },
    {
      "cell_type": "code",
      "metadata": {
        "id": "YlTf4_zjgL0m",
        "colab_type": "code",
        "colab": {}
      },
      "source": [
        "#  get the data\n",
        "categories = ['comp.graphics', 'sci.med']\n",
        "twenty_train = fetch_20newsgroups(subset='train',categories=categories, shuffle=True, random_state=42)\n",
        "\n",
        "X = twenty_train.data\n",
        "y = twenty_train.target\n",
        "\n",
        "print(\"News data length: \", len(X))\n",
        "print('Displaying first 10 rows of iris data')\n",
        "X[:10]"
      ],
      "execution_count": 0,
      "outputs": []
    },
    {
      "cell_type": "markdown",
      "metadata": {
        "id": "URRQIYB1iMcs",
        "colab_type": "text"
      },
      "source": [
        "## lets turn our text into numbers"
      ]
    },
    {
      "cell_type": "code",
      "metadata": {
        "id": "iGWTcnSUiPV_",
        "colab_type": "code",
        "colab": {}
      },
      "source": [
        "# import the package from sklearn that will do this for us\n",
        "from sklearn.feature_extraction.text import CountVectorizer"
      ],
      "execution_count": 0,
      "outputs": []
    },
    {
      "cell_type": "code",
      "metadata": {
        "id": "ubPtPFkUiT4L",
        "colab_type": "code",
        "colab": {}
      },
      "source": [
        "# create a text transformer\n",
        "count_vect = CountVectorizer()\n",
        "\n",
        "# run our text trasformer on our data\n",
        "X_counts = count_vect.fit_transform(X)\n",
        "print(\"New shape is \",X_counts.shape)\n",
        "print(\"That's {0} rows and {1} columns \".format(X_counts.shape[0], X_counts.shape[1]))"
      ],
      "execution_count": 0,
      "outputs": []
    },
    {
      "cell_type": "markdown",
      "metadata": {
        "id": "7nQpQRDri39m",
        "colab_type": "text"
      },
      "source": [
        "what does the number of columns represent??"
      ]
    },
    {
      "cell_type": "markdown",
      "metadata": {
        "id": "hGZPw74qg0XL",
        "colab_type": "text"
      },
      "source": [
        "## Let's build our model,  Is this regression or classification?"
      ]
    },
    {
      "cell_type": "code",
      "metadata": {
        "id": "4GFxn6WPgymp",
        "colab_type": "code",
        "colab": {}
      },
      "source": [
        "# import desicion tree package\n",
        "from sklearn import tree"
      ],
      "execution_count": 0,
      "outputs": []
    },
    {
      "cell_type": "code",
      "metadata": {
        "id": "OGa0MZ33g5SR",
        "colab_type": "code",
        "colab": {}
      },
      "source": [
        "# create the model\n",
        "model = tree.DecisionTreeClassifier()\n",
        "\n",
        "# train the model\n",
        "model.fit(X_counts, y)"
      ],
      "execution_count": 0,
      "outputs": []
    },
    {
      "cell_type": "code",
      "metadata": {
        "id": "IHw46mTRg_uo",
        "colab_type": "code",
        "colab": {}
      },
      "source": [
        "# get prediction\n",
        "model.predict(count_vect.transform([\"this is graphics email\"]))"
      ],
      "execution_count": 0,
      "outputs": []
    },
    {
      "cell_type": "code",
      "metadata": {
        "id": "UrWlPU02jhBo",
        "colab_type": "code",
        "colab": {}
      },
      "source": [
        "# get prediction\n",
        "model.predict(count_vect.transform([\"this is medicine email\"]))"
      ],
      "execution_count": 0,
      "outputs": []
    },
    {
      "cell_type": "code",
      "metadata": {
        "id": "48f9v_iBhHYh",
        "colab_type": "code",
        "colab": {}
      },
      "source": [
        "# get performance\n",
        "model.score(X_counts, y)"
      ],
      "execution_count": 0,
      "outputs": []
    },
    {
      "cell_type": "markdown",
      "metadata": {
        "id": "pxiTc6cGhNv-",
        "colab_type": "text"
      },
      "source": [
        "## lets look at our tree"
      ]
    },
    {
      "cell_type": "code",
      "metadata": {
        "id": "Alh7Hl0QhRRV",
        "colab_type": "code",
        "colab": {}
      },
      "source": [
        "plt.figure(figsize=(15, 10))\n",
        "tree.plot_tree(model, feature_names=count_vect.get_feature_names() , class_names=twenty_train.target_names)\n",
        "plt.show()"
      ],
      "execution_count": 0,
      "outputs": []
    }
  ]
}